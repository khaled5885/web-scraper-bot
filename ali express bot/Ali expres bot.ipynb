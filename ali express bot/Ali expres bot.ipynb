{
 "cells": [
  {
   "cell_type": "code",
   "execution_count": 1,
   "id": "6e07c617-ab48-4f2f-970d-bc02b3d65038",
   "metadata": {},
   "outputs": [],
   "source": [
    "import selenium\n",
    "from selenium import webdriver as wb\n",
    "from selenium.webdriver.chrome.service import Service\n",
    "from selenium.webdriver.common.keys import Keys\n",
    "from selenium.webdriver.common.by import By\n",
    "import time"
   ]
  },
  {
   "cell_type": "code",
   "execution_count": 2,
   "id": "aa696106-2ebf-432c-a03a-8c3891b16f4b",
   "metadata": {},
   "outputs": [],
   "source": [
    "s=Service('D:\\port\\.venv\\Include\\chromedriver.exe')\n",
    "driver=wb.Chrome(service=s)\n",
    "driver.get('https://www.google.com.eg/')\n",
    "search=driver.find_element(By.XPATH,\"\"\"/html/body/div[1]/div[3]/form/div[1]/div[1]/div[1]/div/div[2]/textarea\"\"\")\n",
    "search.send_keys(\"aliexpress\")\n",
    "search.send_keys(Keys.ENTER)\n",
    "time.sleep(4)\n",
    "link=driver.find_element(By.PARTIAL_LINK_TEXT,\"Online Shopping\")\n",
    "link.click()\n",
    "c=driver.find_element(By.XPATH,\"/html/body/div[5]/div/div[2]/div[3]/div[2]\").click()\n",
    "co=driver.find_element(By.XPATH,\"/html/body/div[1]/div[4]/div[1]/div[2]/div[1]/div/div/div/div[1]/div/div/div[1]/div/div\").click()\n",
    "col=driver.find_element(By.XPATH,\"/html/body/div[1]/div[4]/div[1]/div[2]/div[1]/div/div/div/div[1]/div/div/div[1]/div/ul/a[17]/li/div\").click()\n"
   ]
  },
  {
   "cell_type": "code",
   "execution_count": 3,
   "id": "0d163d8b-82c0-4d53-8625-e19e858f0088",
   "metadata": {},
   "outputs": [],
   "source": [
    "listOflinks=[]\n",
    "condition=True\n",
    "while condition:\n",
    "    l=driver.find_element(by=By.TAG_NAME,value=\"body\")\n",
    "    for i in range(10):\n",
    "        l.send_keys(Keys.PAGE_DOWN)\n",
    "        time.sleep(1)\n",
    "    try:\n",
    "        st = driver.find_elements(By.CLASS_NAME, '_2FypS')\n",
    "        for el in st:\n",
    "            s=el.find_element(By.TAG_NAME,('a'))\n",
    "            listOflinks.append(s.get_property('href'))\n",
    "        else:\n",
    "            condition=False            \n",
    "    except:\n",
    "        condition=False"
   ]
  },
  {
   "cell_type": "code",
   "execution_count": 4,
   "id": "cbacf9f0-16f7-44d1-8224-01ccc5cebb0f",
   "metadata": {},
   "outputs": [
    {
     "name": "stderr",
     "output_type": "stream",
     "text": [
      "100%|██████████| 120/120 [19:45<00:00,  9.88s/it]\n"
     ]
    }
   ],
   "source": [
    "from tqdm import tqdm\n",
    "alldetails=[]\n",
    "for i in tqdm(listOflinks):\n",
    "    s=Service('D:\\port\\.venv\\Include\\chromedriver.exe')\n",
    "    driver=wb.Chrome(service=s)\n",
    "    driver.get(i)\n",
    "    producte=driver.find_element(By.TAG_NAME,('h1')).text\n",
    "    price=driver.find_element(By.XPATH,'/html/body/div[4]/div/div[3]/div/div[1]/div[1]/div[2]/div[1]').text\n",
    "    review=driver.find_element(By.TAG_NAME,('strong')).text\n",
    "    items={'producte':producte,\n",
    "       'price':price,\n",
    "       'review':review,\n",
    "       'link':i}\n",
    "    alldetails.append(items)"
   ]
  },
  {
   "cell_type": "code",
   "execution_count": 5,
   "id": "c14121d7-a72e-46ca-82f2-536596b66212",
   "metadata": {},
   "outputs": [],
   "source": [
    "import pandas as pd\n",
    "df=pd.DataFrame(alldetails)\n",
    "n=df.to_csv('ali1.csv', index=False)\n",
    "n\n"
   ]
  }
 ],
 "metadata": {
  "kernelspec": {
   "display_name": "Python 3 (ipykernel)",
   "language": "python",
   "name": "python3"
  },
  "language_info": {
   "codemirror_mode": {
    "name": "ipython",
    "version": 3
   },
   "file_extension": ".py",
   "mimetype": "text/x-python",
   "name": "python",
   "nbconvert_exporter": "python",
   "pygments_lexer": "ipython3",
   "version": "3.11.5"
  }
 },
 "nbformat": 4,
 "nbformat_minor": 5
}
